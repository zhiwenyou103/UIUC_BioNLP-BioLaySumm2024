{
 "cells": [
  {
   "cell_type": "code",
   "execution_count": null,
   "metadata": {},
   "outputs": [],
   "source": [
    "### calculate how many tokens in a text\n",
    "import json\n",
    "from transformers import AutoTokenizer\n",
    "\n",
    "### calculate how many tokens in the extractive summ file\n",
    "with open('/ocean/projects/cis230089p/zyou2/BioNLP/extract_aug_data/plos_val.json', 'r') as f:\n",
    "    data = json.load(f)\n",
    "print(len(data))\n",
    "\n",
    "train_list = []\n",
    "tokenizer = AutoTokenizer.from_pretrained(\"allenai/led-base-16384\")\n",
    "count = 0\n",
    "for chunk in data: \n",
    "    input_ids = tokenizer(chunk, return_tensors=\"pt\", truncation=True, padding=True).input_ids\n",
    "    train_list.append(input_ids.shape[1])\n",
    "    count += input_ids.shape[1]\n",
    "    # print(input_ids.shape[1])\n",
    "print(len(train_list))\n",
    "\n",
    "ave = count / len(data)\n",
    "print(ave)"
   ]
  }
 ],
 "metadata": {
  "language_info": {
   "name": "python"
  }
 },
 "nbformat": 4,
 "nbformat_minor": 2
}
