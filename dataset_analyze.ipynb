{
 "cells": [
  {
   "cell_type": "code",
   "execution_count": null,
   "metadata": {},
   "outputs": [],
   "source": [
    "from transformers import(\n",
    "    Seq2SeqTrainer,\n",
    "    Seq2SeqTrainingArguments,\n",
    "    AutoTokenizer,\n",
    "    AutoModelForSeq2SeqLM,\n",
    ")\n",
    "from tqdm import tqdm\n",
    "from datasets import Dataset\n",
    "import os\n",
    "import json\n",
    "\n"
   ]
  },
  {
   "cell_type": "code",
   "execution_count": null,
   "metadata": {},
   "outputs": [],
   "source": [
    "### calculate the average length of text_a in train/test set that shaped in InputExample format\n",
    "tokenizer = AutoTokenizer.from_pretrained(\"allenai/led-base-16384\")\n",
    "total_length = 0\n",
    "num_items = 0\n",
    "\n",
    "for item in dataset['test']:\n",
    "    text_a = item.text_a\n",
    "    inputs = tokenizer(text_a, return_tensors=\"pt\")\n",
    "    total_length += len(inputs[\"input_ids\"][0])\n",
    "    num_items += 1\n",
    "\n",
    "average_length = total_length / num_items\n",
    "\n",
    "print(\"Average length of test set 'text_a':\", average_length)\n"
   ]
  },
  {
   "cell_type": "code",
   "execution_count": null,
   "metadata": {},
   "outputs": [],
   "source": [
    "### calculate the maximize length of text_a in train/test set that shaped in InputExample format\n",
    "max_length = float('-inf')  # Initialize as negative infinity\n",
    "min_length = float('inf')   # Initialize as positive infinity\n",
    "plm, tokenizer, model_config, WrapperClass = load_plm(\"bert\", \"allenai/scibert_scivocab_uncased\")\n",
    "# Iterate through the items in your dataset\n",
    "for item in dataset['train']:\n",
    "    text_a = item.text_a\n",
    "    inputs = tokenizer(text_a, return_tensors=\"pt\")\n",
    "    length = len(inputs[\"input_ids\"][0])\n",
    "    if length > max_length:\n",
    "        max_length = length\n",
    "                \n",
    "            # Update the minimum length\n",
    "    if length < min_length:\n",
    "        min_length = length\n",
    "\n",
    "# Print the maximum and minimum lengths\n",
    "print(\"Maximum length of 'text_a':\", max_length)\n",
    "print(\"Minimum length of 'text_a':\", min_length)"
   ]
  }
 ],
 "metadata": {
  "kernelspec": {
   "display_name": "Python 3",
   "language": "python",
   "name": "python3"
  },
  "language_info": {
   "name": "python",
   "version": "3.9.18"
  }
 },
 "nbformat": 4,
 "nbformat_minor": 2
}
